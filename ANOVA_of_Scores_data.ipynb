{
  "nbformat": 4,
  "nbformat_minor": 0,
  "metadata": {
    "kernelspec": {
      "display_name": "Python 3",
      "language": "python",
      "name": "python3"
    },
    "language_info": {
      "codemirror_mode": {
        "name": "ipython",
        "version": 3
      },
      "file_extension": ".py",
      "mimetype": "text/x-python",
      "name": "python",
      "nbconvert_exporter": "python",
      "pygments_lexer": "ipython3",
      "version": "3.7.3"
    },
    "colab": {
      "name": "ANOVA of Scores data.ipynb",
      "provenance": [],
      "collapsed_sections": []
    }
  },
  "cells": [
    {
      "cell_type": "markdown",
      "metadata": {
        "id": "say9AnVzqHlM"
      },
      "source": [
        "PROBLEM   STATEMENT\n",
        "Explanation: The dataset shows the results of an experiment that has 3 components – a set of classifiers,  features sets and blocks of time. Various combinations of these 3 factors give different ranking of F1 and MCC scores.\n",
        "The dataset contains: \n",
        "●\tA total of nine classifiers (C) - C1 to C9.\n",
        "●\tFive time segments (T) i.e., 2 min, 5 min, 10 min, 15 min and 30 min.\n",
        "●\tThree feature set (S) - A, B, C \n",
        "●\tScores : F1, Recall, Precision & MCC"
      ]
    },
    {
      "cell_type": "code",
      "metadata": {
        "id": "es24zwD0uXYw"
      },
      "source": [
        "#https://www.analyticsvidhya.com/blog/2018/01/anova-analysis-of-variance/#:~:text=Analysis%20of%20variance%20(ANOVA)%20is,the%20means%20of%20different%20samples."
      ],
      "execution_count": null,
      "outputs": []
    },
    {
      "cell_type": "code",
      "metadata": {
        "id": "r4TCeK8lqHlU"
      },
      "source": [
        "# Here we are importing the required libraries\n",
        "import pandas as pd\n",
        "import numpy as np\n",
        "import matplotlib.pyplot as plt\n",
        "import seaborn as sns\n",
        "%matplotlib inline"
      ],
      "execution_count": 30,
      "outputs": []
    },
    {
      "cell_type": "code",
      "metadata": {
        "id": "pT5BnHmuVZjt"
      },
      "source": [
        "path=\"https://raw.githubusercontent.com/Ashutoshrx/hackathon/main/dataset/Scores%20Dataset.csv\""
      ],
      "execution_count": 31,
      "outputs": []
    },
    {
      "cell_type": "code",
      "metadata": {
        "id": "Ej6mdbZ2qHlV",
        "colab": {
          "base_uri": "https://localhost:8080/",
          "height": 348
        },
        "outputId": "02baf573-8eca-4297-9fc5-4f41492123ca"
      },
      "source": [
        "# Reading the dataset from csv file and showing sample data\n",
        "data=pd.read_csv(path)\n",
        "data.head(10)"
      ],
      "execution_count": 32,
      "outputs": [
        {
          "output_type": "execute_result",
          "data": {
            "text/html": [
              "<div>\n",
              "<style scoped>\n",
              "    .dataframe tbody tr th:only-of-type {\n",
              "        vertical-align: middle;\n",
              "    }\n",
              "\n",
              "    .dataframe tbody tr th {\n",
              "        vertical-align: top;\n",
              "    }\n",
              "\n",
              "    .dataframe thead th {\n",
              "        text-align: right;\n",
              "    }\n",
              "</style>\n",
              "<table border=\"1\" class=\"dataframe\">\n",
              "  <thead>\n",
              "    <tr style=\"text-align: right;\">\n",
              "      <th></th>\n",
              "      <th>C</th>\n",
              "      <th>T</th>\n",
              "      <th>S</th>\n",
              "      <th>F1</th>\n",
              "      <th>Recall</th>\n",
              "      <th>Precision</th>\n",
              "      <th>MCC</th>\n",
              "    </tr>\n",
              "  </thead>\n",
              "  <tbody>\n",
              "    <tr>\n",
              "      <th>0</th>\n",
              "      <td>C1</td>\n",
              "      <td>2min</td>\n",
              "      <td>A</td>\n",
              "      <td>0.886354</td>\n",
              "      <td>0.919236</td>\n",
              "      <td>0.871495</td>\n",
              "      <td>0.919236</td>\n",
              "    </tr>\n",
              "    <tr>\n",
              "      <th>1</th>\n",
              "      <td>C2</td>\n",
              "      <td>2min</td>\n",
              "      <td>A</td>\n",
              "      <td>0.883949</td>\n",
              "      <td>0.911894</td>\n",
              "      <td>0.886433</td>\n",
              "      <td>0.911894</td>\n",
              "    </tr>\n",
              "    <tr>\n",
              "      <th>2</th>\n",
              "      <td>C3</td>\n",
              "      <td>2min</td>\n",
              "      <td>A</td>\n",
              "      <td>0.971346</td>\n",
              "      <td>0.970631</td>\n",
              "      <td>0.973364</td>\n",
              "      <td>0.970631</td>\n",
              "    </tr>\n",
              "    <tr>\n",
              "      <th>3</th>\n",
              "      <td>C4</td>\n",
              "      <td>2min</td>\n",
              "      <td>A</td>\n",
              "      <td>0.781009</td>\n",
              "      <td>0.726872</td>\n",
              "      <td>0.858229</td>\n",
              "      <td>0.726872</td>\n",
              "    </tr>\n",
              "    <tr>\n",
              "      <th>4</th>\n",
              "      <td>C5</td>\n",
              "      <td>2min</td>\n",
              "      <td>A</td>\n",
              "      <td>0.901466</td>\n",
              "      <td>0.922173</td>\n",
              "      <td>0.913166</td>\n",
              "      <td>0.922173</td>\n",
              "    </tr>\n",
              "    <tr>\n",
              "      <th>5</th>\n",
              "      <td>C6</td>\n",
              "      <td>2min</td>\n",
              "      <td>A</td>\n",
              "      <td>0.984601</td>\n",
              "      <td>0.985316</td>\n",
              "      <td>0.985549</td>\n",
              "      <td>0.985316</td>\n",
              "    </tr>\n",
              "    <tr>\n",
              "      <th>6</th>\n",
              "      <td>C7</td>\n",
              "      <td>2min</td>\n",
              "      <td>A</td>\n",
              "      <td>0.875758</td>\n",
              "      <td>0.908957</td>\n",
              "      <td>0.876829</td>\n",
              "      <td>0.908957</td>\n",
              "    </tr>\n",
              "    <tr>\n",
              "      <th>7</th>\n",
              "      <td>C8</td>\n",
              "      <td>2min</td>\n",
              "      <td>A</td>\n",
              "      <td>0.987578</td>\n",
              "      <td>0.988253</td>\n",
              "      <td>0.988402</td>\n",
              "      <td>0.988253</td>\n",
              "    </tr>\n",
              "    <tr>\n",
              "      <th>8</th>\n",
              "      <td>C9</td>\n",
              "      <td>2min</td>\n",
              "      <td>A</td>\n",
              "      <td>0.977391</td>\n",
              "      <td>0.977974</td>\n",
              "      <td>0.977442</td>\n",
              "      <td>0.977974</td>\n",
              "    </tr>\n",
              "    <tr>\n",
              "      <th>9</th>\n",
              "      <td>C1</td>\n",
              "      <td>5min</td>\n",
              "      <td>A</td>\n",
              "      <td>0.824859</td>\n",
              "      <td>0.876652</td>\n",
              "      <td>0.795108</td>\n",
              "      <td>0.876652</td>\n",
              "    </tr>\n",
              "  </tbody>\n",
              "</table>\n",
              "</div>"
            ],
            "text/plain": [
              "    C     T  S        F1    Recall  Precision       MCC\n",
              "0  C1  2min  A  0.886354  0.919236   0.871495  0.919236\n",
              "1  C2  2min  A  0.883949  0.911894   0.886433  0.911894\n",
              "2  C3  2min  A  0.971346  0.970631   0.973364  0.970631\n",
              "3  C4  2min  A  0.781009  0.726872   0.858229  0.726872\n",
              "4  C5  2min  A  0.901466  0.922173   0.913166  0.922173\n",
              "5  C6  2min  A  0.984601  0.985316   0.985549  0.985316\n",
              "6  C7  2min  A  0.875758  0.908957   0.876829  0.908957\n",
              "7  C8  2min  A  0.987578  0.988253   0.988402  0.988253\n",
              "8  C9  2min  A  0.977391  0.977974   0.977442  0.977974\n",
              "9  C1  5min  A  0.824859  0.876652   0.795108  0.876652"
            ]
          },
          "metadata": {
            "tags": []
          },
          "execution_count": 32
        }
      ]
    },
    {
      "cell_type": "code",
      "metadata": {
        "id": "vx5rZ5NYqHlW",
        "colab": {
          "base_uri": "https://localhost:8080/"
        },
        "outputId": "bdb7761f-974e-47d5-aab1-504ca4227496"
      },
      "source": [
        "# Here we are getting the information of the dataset\n",
        "data.info()"
      ],
      "execution_count": 33,
      "outputs": [
        {
          "output_type": "stream",
          "text": [
            "<class 'pandas.core.frame.DataFrame'>\n",
            "RangeIndex: 135 entries, 0 to 134\n",
            "Data columns (total 7 columns):\n",
            " #   Column     Non-Null Count  Dtype  \n",
            "---  ------     --------------  -----  \n",
            " 0   C          135 non-null    object \n",
            " 1   T          135 non-null    object \n",
            " 2   S          135 non-null    object \n",
            " 3   F1         135 non-null    float64\n",
            " 4   Recall     135 non-null    float64\n",
            " 5   Precision  135 non-null    float64\n",
            " 6   MCC        135 non-null    float64\n",
            "dtypes: float64(4), object(3)\n",
            "memory usage: 7.5+ KB\n"
          ],
          "name": "stdout"
        }
      ]
    },
    {
      "cell_type": "markdown",
      "metadata": {
        "id": "5XB47gUrqHlX"
      },
      "source": [
        "1.\tIdentify the best combinations of the 3 factors on the basis of the scores\n",
        "\n",
        "To solve this question we take the mean of F1, Recall and Precision. And we select best combination corresponding to the highest mean."
      ]
    },
    {
      "cell_type": "code",
      "metadata": {
        "id": "9PCBgPtyqHlX",
        "colab": {
          "base_uri": "https://localhost:8080/"
        },
        "outputId": "16c28589-40d0-43f3-9bae-37dbc58876e9"
      },
      "source": [
        "X=data.drop(['C','T','S','MCC'], axis=1)\n",
        "X=pd.DataFrame(X)\n",
        "Mean=X.mean(axis=1)\n",
        "maxi=Mean.max()\n",
        "pos=Mean.idxmax()\n",
        "print(\"Maximum mean is\", maxi, \"in the position\", pos)"
      ],
      "execution_count": 34,
      "outputs": [
        {
          "output_type": "stream",
          "text": [
            "Maximum mean is 0.9880777813333333 in the position 7\n"
          ],
          "name": "stdout"
        }
      ]
    },
    {
      "cell_type": "code",
      "metadata": {
        "id": "SJpjJK3oV4ty"
      },
      "source": [
        "data['Mean']=X.mean(axis=1)"
      ],
      "execution_count": 35,
      "outputs": []
    },
    {
      "cell_type": "markdown",
      "metadata": {
        "id": "9VPHAfdhqHlY"
      },
      "source": [
        "Since we get maximum mean as 0.9880777813333333 in the position 7,\n",
        "we can say that best combination of three factors is C(C8), T(2min), S(A)"
      ]
    },
    {
      "cell_type": "markdown",
      "metadata": {
        "id": "bqEG9gYDqHlY"
      },
      "source": [
        "2.\tRank the best combination of C, T & S based on F1 and MCC\n",
        "\n",
        "To solve this problem we calculate the mean of F1 and MCC and we rank the best combinations based on highest mean to the lowest."
      ]
    },
    {
      "cell_type": "code",
      "metadata": {
        "id": "j-4f-YvOqHlY",
        "colab": {
          "base_uri": "https://localhost:8080/",
          "height": 407
        },
        "outputId": "03555986-4ed9-4112-bd07-808de0c5b720"
      },
      "source": [
        "data.sort_values(\"Mean\", ascending=False)"
      ],
      "execution_count": 36,
      "outputs": [
        {
          "output_type": "execute_result",
          "data": {
            "text/html": [
              "<div>\n",
              "<style scoped>\n",
              "    .dataframe tbody tr th:only-of-type {\n",
              "        vertical-align: middle;\n",
              "    }\n",
              "\n",
              "    .dataframe tbody tr th {\n",
              "        vertical-align: top;\n",
              "    }\n",
              "\n",
              "    .dataframe thead th {\n",
              "        text-align: right;\n",
              "    }\n",
              "</style>\n",
              "<table border=\"1\" class=\"dataframe\">\n",
              "  <thead>\n",
              "    <tr style=\"text-align: right;\">\n",
              "      <th></th>\n",
              "      <th>C</th>\n",
              "      <th>T</th>\n",
              "      <th>S</th>\n",
              "      <th>F1</th>\n",
              "      <th>Recall</th>\n",
              "      <th>Precision</th>\n",
              "      <th>MCC</th>\n",
              "      <th>Mean</th>\n",
              "    </tr>\n",
              "  </thead>\n",
              "  <tbody>\n",
              "    <tr>\n",
              "      <th>7</th>\n",
              "      <td>C8</td>\n",
              "      <td>2min</td>\n",
              "      <td>A</td>\n",
              "      <td>0.987578</td>\n",
              "      <td>0.988253</td>\n",
              "      <td>0.988402</td>\n",
              "      <td>0.988253</td>\n",
              "      <td>0.988078</td>\n",
              "    </tr>\n",
              "    <tr>\n",
              "      <th>52</th>\n",
              "      <td>C8</td>\n",
              "      <td>2min</td>\n",
              "      <td>B</td>\n",
              "      <td>0.987578</td>\n",
              "      <td>0.988253</td>\n",
              "      <td>0.988402</td>\n",
              "      <td>0.988253</td>\n",
              "      <td>0.988078</td>\n",
              "    </tr>\n",
              "    <tr>\n",
              "      <th>95</th>\n",
              "      <td>C6</td>\n",
              "      <td>2min</td>\n",
              "      <td>C</td>\n",
              "      <td>0.984820</td>\n",
              "      <td>0.985790</td>\n",
              "      <td>0.986002</td>\n",
              "      <td>0.985790</td>\n",
              "      <td>0.985538</td>\n",
              "    </tr>\n",
              "    <tr>\n",
              "      <th>97</th>\n",
              "      <td>C8</td>\n",
              "      <td>2min</td>\n",
              "      <td>C</td>\n",
              "      <td>0.984820</td>\n",
              "      <td>0.985790</td>\n",
              "      <td>0.986002</td>\n",
              "      <td>0.985790</td>\n",
              "      <td>0.985538</td>\n",
              "    </tr>\n",
              "    <tr>\n",
              "      <th>50</th>\n",
              "      <td>C6</td>\n",
              "      <td>2min</td>\n",
              "      <td>B</td>\n",
              "      <td>0.984601</td>\n",
              "      <td>0.985316</td>\n",
              "      <td>0.985549</td>\n",
              "      <td>0.985316</td>\n",
              "      <td>0.985155</td>\n",
              "    </tr>\n",
              "    <tr>\n",
              "      <th>...</th>\n",
              "      <td>...</td>\n",
              "      <td>...</td>\n",
              "      <td>...</td>\n",
              "      <td>...</td>\n",
              "      <td>...</td>\n",
              "      <td>...</td>\n",
              "      <td>...</td>\n",
              "      <td>...</td>\n",
              "    </tr>\n",
              "    <tr>\n",
              "      <th>111</th>\n",
              "      <td>C4</td>\n",
              "      <td>10min</td>\n",
              "      <td>C</td>\n",
              "      <td>0.486285</td>\n",
              "      <td>0.369449</td>\n",
              "      <td>0.795755</td>\n",
              "      <td>0.369449</td>\n",
              "      <td>0.550497</td>\n",
              "    </tr>\n",
              "    <tr>\n",
              "      <th>36</th>\n",
              "      <td>C1</td>\n",
              "      <td>30min</td>\n",
              "      <td>A</td>\n",
              "      <td>0.509108</td>\n",
              "      <td>0.565345</td>\n",
              "      <td>0.534798</td>\n",
              "      <td>0.565345</td>\n",
              "      <td>0.536417</td>\n",
              "    </tr>\n",
              "    <tr>\n",
              "      <th>93</th>\n",
              "      <td>C4</td>\n",
              "      <td>2min</td>\n",
              "      <td>C</td>\n",
              "      <td>0.402377</td>\n",
              "      <td>0.277087</td>\n",
              "      <td>0.900812</td>\n",
              "      <td>0.277087</td>\n",
              "      <td>0.526759</td>\n",
              "    </tr>\n",
              "    <tr>\n",
              "      <th>84</th>\n",
              "      <td>C4</td>\n",
              "      <td>30min</td>\n",
              "      <td>B</td>\n",
              "      <td>0.403961</td>\n",
              "      <td>0.437592</td>\n",
              "      <td>0.578747</td>\n",
              "      <td>0.437592</td>\n",
              "      <td>0.473433</td>\n",
              "    </tr>\n",
              "    <tr>\n",
              "      <th>39</th>\n",
              "      <td>C4</td>\n",
              "      <td>30min</td>\n",
              "      <td>A</td>\n",
              "      <td>0.360818</td>\n",
              "      <td>0.403818</td>\n",
              "      <td>0.488765</td>\n",
              "      <td>0.403818</td>\n",
              "      <td>0.417800</td>\n",
              "    </tr>\n",
              "  </tbody>\n",
              "</table>\n",
              "<p>135 rows × 8 columns</p>\n",
              "</div>"
            ],
            "text/plain": [
              "      C      T  S        F1    Recall  Precision       MCC      Mean\n",
              "7    C8   2min  A  0.987578  0.988253   0.988402  0.988253  0.988078\n",
              "52   C8   2min  B  0.987578  0.988253   0.988402  0.988253  0.988078\n",
              "95   C6   2min  C  0.984820  0.985790   0.986002  0.985790  0.985538\n",
              "97   C8   2min  C  0.984820  0.985790   0.986002  0.985790  0.985538\n",
              "50   C6   2min  B  0.984601  0.985316   0.985549  0.985316  0.985155\n",
              "..   ..    ... ..       ...       ...        ...       ...       ...\n",
              "111  C4  10min  C  0.486285  0.369449   0.795755  0.369449  0.550497\n",
              "36   C1  30min  A  0.509108  0.565345   0.534798  0.565345  0.536417\n",
              "93   C4   2min  C  0.402377  0.277087   0.900812  0.277087  0.526759\n",
              "84   C4  30min  B  0.403961  0.437592   0.578747  0.437592  0.473433\n",
              "39   C4  30min  A  0.360818  0.403818   0.488765  0.403818  0.417800\n",
              "\n",
              "[135 rows x 8 columns]"
            ]
          },
          "metadata": {
            "tags": []
          },
          "execution_count": 36
        }
      ]
    },
    {
      "cell_type": "code",
      "metadata": {
        "id": "fm8p16QzqHlZ",
        "colab": {
          "base_uri": "https://localhost:8080/"
        },
        "outputId": "e2145ee0-a2a1-490f-eee1-5a20f5455025"
      },
      "source": [
        "from statsmodels.formula.api import ols\n",
        "from statsmodels.stats.anova import anova_lm\n",
        "Data=data.drop(['MCC'], axis=1)\n",
        "Data.head()\n",
        "model=ols(\"Mean~C+T+S\", Data).fit()\n",
        "print(model.summary())"
      ],
      "execution_count": 37,
      "outputs": [
        {
          "output_type": "stream",
          "text": [
            "                            OLS Regression Results                            \n",
            "==============================================================================\n",
            "Dep. Variable:                   Mean   R-squared:                       0.861\n",
            "Model:                            OLS   Adj. R-squared:                  0.845\n",
            "Method:                 Least Squares   F-statistic:                     53.14\n",
            "Date:                Thu, 25 Mar 2021   Prob (F-statistic):           1.37e-44\n",
            "Time:                        14:06:03   Log-Likelihood:                 205.44\n",
            "No. Observations:                 135   AIC:                            -380.9\n",
            "Df Residuals:                     120   BIC:                            -337.3\n",
            "Df Model:                          14                                         \n",
            "Covariance Type:            nonrobust                                         \n",
            "==============================================================================\n",
            "                 coef    std err          t      P>|t|      [0.025      0.975]\n",
            "------------------------------------------------------------------------------\n",
            "Intercept      0.7122      0.019     38.131      0.000       0.675       0.749\n",
            "C[T.C2]        0.0820      0.020      4.008      0.000       0.041       0.123\n",
            "C[T.C3]        0.2122      0.020     10.371      0.000       0.172       0.253\n",
            "C[T.C4]       -0.1370      0.020     -6.697      0.000      -0.178      -0.097\n",
            "C[T.C5]        0.0874      0.020      4.274      0.000       0.047       0.128\n",
            "C[T.C6]        0.2271      0.020     11.100      0.000       0.187       0.268\n",
            "C[T.C7]        0.0247      0.020      1.207      0.230      -0.016       0.065\n",
            "C[T.C8]        0.2291      0.020     11.199      0.000       0.189       0.270\n",
            "C[T.C9]        0.2022      0.020      9.881      0.000       0.162       0.243\n",
            "T[T.15min]    -0.0314      0.015     -2.060      0.042      -0.062      -0.001\n",
            "T[T.2min]      0.0812      0.015      5.323      0.000       0.051       0.111\n",
            "T[T.30min]    -0.0604      0.015     -3.963      0.000      -0.091      -0.030\n",
            "T[T.5min]      0.0505      0.015      3.315      0.001       0.020       0.081\n",
            "S[T.B]         0.0170      0.012      1.436      0.154      -0.006       0.040\n",
            "S[T.C]         0.0469      0.012      3.968      0.000       0.023       0.070\n",
            "==============================================================================\n",
            "Omnibus:                        4.040   Durbin-Watson:                   2.186\n",
            "Prob(Omnibus):                  0.133   Jarque-Bera (JB):                3.768\n",
            "Skew:                          -0.408   Prob(JB):                        0.152\n",
            "Kurtosis:                       3.054   Cond. No.                         11.6\n",
            "==============================================================================\n",
            "\n",
            "Warnings:\n",
            "[1] Standard Errors assume that the covariance matrix of the errors is correctly specified.\n"
          ],
          "name": "stdout"
        }
      ]
    },
    {
      "cell_type": "code",
      "metadata": {
        "id": "8-Xy_5S0qHlZ",
        "colab": {
          "base_uri": "https://localhost:8080/"
        },
        "outputId": "cb6baf97-0709-4712-f18d-49200fec2cd2"
      },
      "source": [
        "anova=anova_lm(model)\n",
        "print(anova)"
      ],
      "execution_count": 38,
      "outputs": [
        {
          "output_type": "stream",
          "text": [
            "             df    sum_sq   mean_sq          F        PR(>F)\n",
            "C           8.0  1.921582  0.240198  76.505221  1.772408e-43\n",
            "T           4.0  0.363592  0.090898  28.951844  7.607740e-17\n",
            "S           2.0  0.050684  0.025342   8.071648  5.141610e-04\n",
            "Residual  120.0  0.376755  0.003140        NaN           NaN\n"
          ],
          "name": "stdout"
        }
      ]
    },
    {
      "cell_type": "code",
      "metadata": {
        "id": "O8nw79OEqHlZ",
        "colab": {
          "base_uri": "https://localhost:8080/",
          "height": 335
        },
        "outputId": "73ffec67-9cf7-4001-c9b2-c0bd1123d529"
      },
      "source": [
        "import scipy as sp\n",
        "sns.distplot(data['Mean'], fit=sp.stats.norm, kde=False)\n",
        "plt.show()"
      ],
      "execution_count": 39,
      "outputs": [
        {
          "output_type": "stream",
          "text": [
            "/usr/local/lib/python3.7/dist-packages/seaborn/distributions.py:2557: FutureWarning: `distplot` is a deprecated function and will be removed in a future version. Please adapt your code to use either `displot` (a figure-level function with similar flexibility) or `histplot` (an axes-level function for histograms).\n",
            "  warnings.warn(msg, FutureWarning)\n"
          ],
          "name": "stderr"
        },
        {
          "output_type": "display_data",
          "data": {
            "image/png": "[encoded data removed]",
            "text/plain": [
              "<Figure size 432x288 with 1 Axes>"
            ]
          },
          "metadata": {
            "tags": [],
            "needs_background": "light"
          }
        }
      ]
    },
    {
      "cell_type": "code",
      "metadata": {
        "id": "3F6YXVfvqHla",
        "colab": {
          "base_uri": "https://localhost:8080/"
        },
        "outputId": "41f64536-88ec-4fe3-ddc0-ef318d817708"
      },
      "source": [
        "from scipy.stats import f_oneway\n",
        "from statsmodels.stats.multicomp import pairwise_tukeyhsd\n",
        "tukey=pairwise_tukeyhsd(endog=data['Mean'], groups=data['C'], alpha=0.05)\n",
        "print(tukey)\n",
        "tukey1=pairwise_tukeyhsd(endog=data['Mean'], groups=data['T'], alpha=0.05)\n",
        "print(tukey1)\n",
        "tukey2=pairwise_tukeyhsd(endog=data['Mean'], groups=data['S'], alpha=0.05)\n",
        "print(tukey2)"
      ],
      "execution_count": 40,
      "outputs": [
        {
          "output_type": "stream",
          "text": [
            "Multiple Comparison of Means - Tukey HSD, FWER=0.05 \n",
            "====================================================\n",
            "group1 group2 meandiff p-adj   lower   upper  reject\n",
            "----------------------------------------------------\n",
            "    C1     C2    0.082 0.1161 -0.0093  0.1733  False\n",
            "    C1     C3   0.2122  0.001  0.1209  0.3035   True\n",
            "    C1     C4   -0.137  0.001 -0.2283 -0.0457   True\n",
            "    C1     C5   0.0874 0.0723 -0.0039  0.1788  False\n",
            "    C1     C6   0.2271  0.001  0.1358  0.3184   True\n",
            "    C1     C7   0.0247    0.9 -0.0666   0.116  False\n",
            "    C1     C8   0.2291  0.001  0.1378  0.3205   True\n",
            "    C1     C9   0.2022  0.001  0.1109  0.2935   True\n",
            "    C2     C3   0.1302  0.001  0.0389  0.2215   True\n",
            "    C2     C4   -0.219  0.001 -0.3104 -0.1277   True\n",
            "    C2     C5   0.0054    0.9 -0.0859  0.0968  False\n",
            "    C2     C6   0.1451  0.001  0.0538  0.2364   True\n",
            "    C2     C7  -0.0573 0.5512 -0.1486   0.034  False\n",
            "    C2     C8   0.1471  0.001  0.0558  0.2384   True\n",
            "    C2     C9   0.1202 0.0019  0.0288  0.2115   True\n",
            "    C3     C4  -0.3492  0.001 -0.4405 -0.2579   True\n",
            "    C3     C5  -0.1247 0.0011 -0.2161 -0.0334   True\n",
            "    C3     C6   0.0149    0.9 -0.0764  0.1062  False\n",
            "    C3     C7  -0.1875  0.001 -0.2788 -0.0962   True\n",
            "    C3     C8    0.017    0.9 -0.0744  0.1083  False\n",
            "    C3     C9    -0.01    0.9 -0.1013  0.0813  False\n",
            "    C4     C5   0.2245  0.001  0.1331  0.3158   True\n",
            "    C4     C6   0.3641  0.001  0.2728  0.4555   True\n",
            "    C4     C7   0.1617  0.001  0.0704   0.253   True\n",
            "    C4     C8   0.3662  0.001  0.2748  0.4575   True\n",
            "    C4     C9   0.3392  0.001  0.2479  0.4305   True\n",
            "    C5     C6   0.1397  0.001  0.0483   0.231   True\n",
            "    C5     C7  -0.0627 0.4353 -0.1541  0.0286  False\n",
            "    C5     C8   0.1417  0.001  0.0504   0.233   True\n",
            "    C5     C9   0.1147 0.0038  0.0234  0.2061   True\n",
            "    C6     C7  -0.2024  0.001 -0.2937 -0.1111   True\n",
            "    C6     C8    0.002    0.9 -0.0893  0.0933  False\n",
            "    C6     C9  -0.0249    0.9 -0.1163  0.0664  False\n",
            "    C7     C8   0.2044  0.001  0.1131  0.2958   True\n",
            "    C7     C9   0.1775  0.001  0.0862  0.2688   True\n",
            "    C8     C9   -0.027    0.9 -0.1183  0.0644  False\n",
            "----------------------------------------------------\n",
            "Multiple Comparison of Means - Tukey HSD, FWER=0.05 \n",
            "====================================================\n",
            "group1 group2 meandiff p-adj   lower   upper  reject\n",
            "----------------------------------------------------\n",
            " 10min  15min  -0.0314    0.9 -0.1326  0.0698  False\n",
            " 10min   2min   0.0812 0.1792   -0.02  0.1824  False\n",
            " 10min  30min  -0.0604 0.4683 -0.1617  0.0408  False\n",
            " 10min   5min   0.0505 0.6226 -0.0507  0.1518  False\n",
            " 15min   2min   0.1126 0.0211  0.0114  0.2138   True\n",
            " 15min  30min   -0.029    0.9 -0.1302  0.0722  False\n",
            " 15min   5min    0.082 0.1717 -0.0192  0.1832  False\n",
            "  2min  30min  -0.1416 0.0016 -0.2428 -0.0404   True\n",
            "  2min   5min  -0.0306    0.9 -0.1318  0.0706  False\n",
            " 30min   5min    0.111  0.024  0.0098  0.2122   True\n",
            "----------------------------------------------------\n",
            "Multiple Comparison of Means - Tukey HSD, FWER=0.05\n",
            "===================================================\n",
            "group1 group2 meandiff p-adj   lower  upper  reject\n",
            "---------------------------------------------------\n",
            "     A      B    0.017 0.8205  -0.054 0.0879  False\n",
            "     A      C   0.0469 0.2645 -0.0241 0.1178  False\n",
            "     B      C   0.0299 0.5736 -0.0411 0.1009  False\n",
            "---------------------------------------------------\n"
          ],
          "name": "stdout"
        }
      ]
    },
    {
      "cell_type": "code",
      "metadata": {
        "colab": {
          "base_uri": "https://localhost:8080/"
        },
        "id": "1n5xyABEW1jr",
        "outputId": "0f6b67e7-ed5a-4a70-9d3a-964601055be3"
      },
      "source": [
        "pip install bioinfokit"
      ],
      "execution_count": 41,
      "outputs": [
        {
          "output_type": "stream",
          "text": [
            "Requirement already satisfied: bioinfokit in /usr/local/lib/python3.7/dist-packages (2.0.2)\n",
            "Requirement already satisfied: matplotlib-venn in /usr/local/lib/python3.7/dist-packages (from bioinfokit) (0.11.6)\n",
            "Requirement already satisfied: textwrap3 in /usr/local/lib/python3.7/dist-packages (from bioinfokit) (0.9.2)\n",
            "Requirement already satisfied: matplotlib in /usr/local/lib/python3.7/dist-packages (from bioinfokit) (3.2.2)\n",
            "Requirement already satisfied: tabulate in /usr/local/lib/python3.7/dist-packages (from bioinfokit) (0.8.9)\n",
            "Requirement already satisfied: seaborn in /usr/local/lib/python3.7/dist-packages (from bioinfokit) (0.11.1)\n",
            "Requirement already satisfied: pandas in /usr/local/lib/python3.7/dist-packages (from bioinfokit) (1.1.5)\n",
            "Requirement already satisfied: numpy in /usr/local/lib/python3.7/dist-packages (from bioinfokit) (1.19.5)\n",
            "Requirement already satisfied: statsmodels in /usr/local/lib/python3.7/dist-packages (from bioinfokit) (0.10.2)\n",
            "Requirement already satisfied: scikit-learn in /usr/local/lib/python3.7/dist-packages (from bioinfokit) (0.22.2.post1)\n",
            "Requirement already satisfied: adjustText in /usr/local/lib/python3.7/dist-packages (from bioinfokit) (0.7.3)\n",
            "Requirement already satisfied: scipy in /usr/local/lib/python3.7/dist-packages (from bioinfokit) (1.4.1)\n",
            "Requirement already satisfied: kiwisolver>=1.0.1 in /usr/local/lib/python3.7/dist-packages (from matplotlib->bioinfokit) (1.3.1)\n",
            "Requirement already satisfied: cycler>=0.10 in /usr/local/lib/python3.7/dist-packages (from matplotlib->bioinfokit) (0.10.0)\n",
            "Requirement already satisfied: python-dateutil>=2.1 in /usr/local/lib/python3.7/dist-packages (from matplotlib->bioinfokit) (2.8.1)\n",
            "Requirement already satisfied: pyparsing!=2.0.4,!=2.1.2,!=2.1.6,>=2.0.1 in /usr/local/lib/python3.7/dist-packages (from matplotlib->bioinfokit) (2.4.7)\n",
            "Requirement already satisfied: pytz>=2017.2 in /usr/local/lib/python3.7/dist-packages (from pandas->bioinfokit) (2018.9)\n",
            "Requirement already satisfied: patsy>=0.4.0 in /usr/local/lib/python3.7/dist-packages (from statsmodels->bioinfokit) (0.5.1)\n",
            "Requirement already satisfied: joblib>=0.11 in /usr/local/lib/python3.7/dist-packages (from scikit-learn->bioinfokit) (1.0.1)\n",
            "Requirement already satisfied: six in /usr/local/lib/python3.7/dist-packages (from cycler>=0.10->matplotlib->bioinfokit) (1.15.0)\n"
          ],
          "name": "stdout"
        }
      ]
    },
    {
      "cell_type": "code",
      "metadata": {
        "id": "ANGLqmr3qHla",
        "colab": {
          "base_uri": "https://localhost:8080/",
          "height": 407
        },
        "outputId": "0620d11d-049c-4e92-d68f-ef14f7629b41"
      },
      "source": [
        "import bioinfokit\n",
        "from bioinfokit.analys import stat\n",
        "res=stat()\n",
        "res.tukey_hsd(data, res_var='Mean', xfac_var=['C', 'T', 'S'], anova_model='Mean~C+T+S')\n",
        "res.tukey_summary"
      ],
      "execution_count": 42,
      "outputs": [
        {
          "output_type": "execute_result",
          "data": {
            "text/html": [
              "<div>\n",
              "<style scoped>\n",
              "    .dataframe tbody tr th:only-of-type {\n",
              "        vertical-align: middle;\n",
              "    }\n",
              "\n",
              "    .dataframe tbody tr th {\n",
              "        vertical-align: top;\n",
              "    }\n",
              "\n",
              "    .dataframe thead th {\n",
              "        text-align: right;\n",
              "    }\n",
              "</style>\n",
              "<table border=\"1\" class=\"dataframe\">\n",
              "  <thead>\n",
              "    <tr style=\"text-align: right;\">\n",
              "      <th></th>\n",
              "      <th>group1</th>\n",
              "      <th>group2</th>\n",
              "      <th>Diff</th>\n",
              "      <th>Lower</th>\n",
              "      <th>Upper</th>\n",
              "      <th>q-value</th>\n",
              "      <th>p-value</th>\n",
              "    </tr>\n",
              "  </thead>\n",
              "  <tbody>\n",
              "    <tr>\n",
              "      <th>0</th>\n",
              "      <td>(C1, 2min, A)</td>\n",
              "      <td>(C1, 2min, B)</td>\n",
              "      <td>0.006727</td>\n",
              "      <td>-0.355980</td>\n",
              "      <td>0.369434</td>\n",
              "      <td>0.120051</td>\n",
              "      <td>0.9</td>\n",
              "    </tr>\n",
              "    <tr>\n",
              "      <th>1</th>\n",
              "      <td>(C1, 2min, A)</td>\n",
              "      <td>(C1, 2min, C)</td>\n",
              "      <td>0.042496</td>\n",
              "      <td>-0.320211</td>\n",
              "      <td>0.405204</td>\n",
              "      <td>0.758426</td>\n",
              "      <td>0.9</td>\n",
              "    </tr>\n",
              "    <tr>\n",
              "      <th>2</th>\n",
              "      <td>(C1, 2min, A)</td>\n",
              "      <td>(C1, 5min, A)</td>\n",
              "      <td>0.060156</td>\n",
              "      <td>-0.302552</td>\n",
              "      <td>0.422863</td>\n",
              "      <td>1.073587</td>\n",
              "      <td>0.9</td>\n",
              "    </tr>\n",
              "    <tr>\n",
              "      <th>3</th>\n",
              "      <td>(C1, 2min, A)</td>\n",
              "      <td>(C1, 5min, B)</td>\n",
              "      <td>0.064998</td>\n",
              "      <td>-0.297709</td>\n",
              "      <td>0.427705</td>\n",
              "      <td>1.160007</td>\n",
              "      <td>0.9</td>\n",
              "    </tr>\n",
              "    <tr>\n",
              "      <th>4</th>\n",
              "      <td>(C1, 2min, A)</td>\n",
              "      <td>(C1, 5min, C)</td>\n",
              "      <td>0.039382</td>\n",
              "      <td>-0.323325</td>\n",
              "      <td>0.402089</td>\n",
              "      <td>0.702846</td>\n",
              "      <td>0.9</td>\n",
              "    </tr>\n",
              "    <tr>\n",
              "      <th>...</th>\n",
              "      <td>...</td>\n",
              "      <td>...</td>\n",
              "      <td>...</td>\n",
              "      <td>...</td>\n",
              "      <td>...</td>\n",
              "      <td>...</td>\n",
              "      <td>...</td>\n",
              "    </tr>\n",
              "    <tr>\n",
              "      <th>9040</th>\n",
              "      <td>(C9, 15min, C)</td>\n",
              "      <td>(C9, 30min, B)</td>\n",
              "      <td>0.031001</td>\n",
              "      <td>-0.331706</td>\n",
              "      <td>0.393708</td>\n",
              "      <td>0.553272</td>\n",
              "      <td>0.9</td>\n",
              "    </tr>\n",
              "    <tr>\n",
              "      <th>9041</th>\n",
              "      <td>(C9, 15min, C)</td>\n",
              "      <td>(C9, 30min, C)</td>\n",
              "      <td>0.004480</td>\n",
              "      <td>-0.358227</td>\n",
              "      <td>0.367187</td>\n",
              "      <td>0.079948</td>\n",
              "      <td>0.9</td>\n",
              "    </tr>\n",
              "    <tr>\n",
              "      <th>9042</th>\n",
              "      <td>(C9, 30min, A)</td>\n",
              "      <td>(C9, 30min, B)</td>\n",
              "      <td>0.055943</td>\n",
              "      <td>-0.306764</td>\n",
              "      <td>0.418650</td>\n",
              "      <td>0.998404</td>\n",
              "      <td>0.9</td>\n",
              "    </tr>\n",
              "    <tr>\n",
              "      <th>9043</th>\n",
              "      <td>(C9, 30min, A)</td>\n",
              "      <td>(C9, 30min, C)</td>\n",
              "      <td>0.082464</td>\n",
              "      <td>-0.280243</td>\n",
              "      <td>0.445172</td>\n",
              "      <td>1.471728</td>\n",
              "      <td>0.9</td>\n",
              "    </tr>\n",
              "    <tr>\n",
              "      <th>9044</th>\n",
              "      <td>(C9, 30min, B)</td>\n",
              "      <td>(C9, 30min, C)</td>\n",
              "      <td>0.026521</td>\n",
              "      <td>-0.336186</td>\n",
              "      <td>0.389229</td>\n",
              "      <td>0.473324</td>\n",
              "      <td>0.9</td>\n",
              "    </tr>\n",
              "  </tbody>\n",
              "</table>\n",
              "<p>9045 rows × 7 columns</p>\n",
              "</div>"
            ],
            "text/plain": [
              "              group1          group2      Diff  ...     Upper   q-value  p-value\n",
              "0      (C1, 2min, A)   (C1, 2min, B)  0.006727  ...  0.369434  0.120051      0.9\n",
              "1      (C1, 2min, A)   (C1, 2min, C)  0.042496  ...  0.405204  0.758426      0.9\n",
              "2      (C1, 2min, A)   (C1, 5min, A)  0.060156  ...  0.422863  1.073587      0.9\n",
              "3      (C1, 2min, A)   (C1, 5min, B)  0.064998  ...  0.427705  1.160007      0.9\n",
              "4      (C1, 2min, A)   (C1, 5min, C)  0.039382  ...  0.402089  0.702846      0.9\n",
              "...              ...             ...       ...  ...       ...       ...      ...\n",
              "9040  (C9, 15min, C)  (C9, 30min, B)  0.031001  ...  0.393708  0.553272      0.9\n",
              "9041  (C9, 15min, C)  (C9, 30min, C)  0.004480  ...  0.367187  0.079948      0.9\n",
              "9042  (C9, 30min, A)  (C9, 30min, B)  0.055943  ...  0.418650  0.998404      0.9\n",
              "9043  (C9, 30min, A)  (C9, 30min, C)  0.082464  ...  0.445172  1.471728      0.9\n",
              "9044  (C9, 30min, B)  (C9, 30min, C)  0.026521  ...  0.389229  0.473324      0.9\n",
              "\n",
              "[9045 rows x 7 columns]"
            ]
          },
          "metadata": {
            "tags": []
          },
          "execution_count": 42
        }
      ]
    },
    {
      "cell_type": "code",
      "metadata": {
        "colab": {
          "base_uri": "https://localhost:8080/"
        },
        "id": "mD8oHZXWXU6M",
        "outputId": "0c51cb50-b36b-4bad-d746-b30db77109cc"
      },
      "source": [
        "min(res.tukey_summary['p-value'])"
      ],
      "execution_count": 43,
      "outputs": [
        {
          "output_type": "execute_result",
          "data": {
            "text/plain": [
              "0.001"
            ]
          },
          "metadata": {
            "tags": []
          },
          "execution_count": 43
        }
      ]
    },
    {
      "cell_type": "code",
      "metadata": {
        "colab": {
          "base_uri": "https://localhost:8080/"
        },
        "id": "zPtI5qUDYEVb",
        "outputId": "22418356-54bd-4cc9-ef3b-80f5024e2206"
      },
      "source": [
        "print(res.tukey_summary[res.tukey_summary['p-value'] == res.tukey_summary['p-value'].min()])"
      ],
      "execution_count": 44,
      "outputs": [
        {
          "output_type": "stream",
          "text": [
            "              group1          group2      Diff  ...     Upper   q-value  p-value\n",
            "56     (C1, 2min, A)  (C4, 30min, A)  0.474562  ...  0.837269  8.469420    0.001\n",
            "189    (C1, 2min, B)  (C4, 30min, A)  0.467835  ...  0.830542  8.349369    0.001\n",
            "321    (C1, 2min, C)  (C4, 30min, A)  0.517058  ...  0.879765  9.227846    0.001\n",
            "322    (C1, 2min, C)  (C4, 30min, B)  0.461425  ...  0.824132  8.234975    0.001\n",
            "1560  (C1, 30min, A)   (C3, 2min, B)  0.443547  ...  0.806254  7.915906    0.001\n",
            "...              ...             ...       ...  ...       ...       ...      ...\n",
            "6188  (C4, 30min, B)  (C9, 10min, C)  0.481725  ...  0.844432  8.597265    0.001\n",
            "6190  (C4, 30min, B)  (C9, 15min, B)  0.471008  ...  0.833716  8.406007    0.001\n",
            "6191  (C4, 30min, B)  (C9, 15min, C)  0.481957  ...  0.844664  8.601402    0.001\n",
            "6193  (C4, 30min, B)  (C9, 30min, B)  0.450956  ...  0.813663  8.048130    0.001\n",
            "6194  (C4, 30min, B)  (C9, 30min, C)  0.477477  ...  0.840184  8.521454    0.001\n",
            "\n",
            "[176 rows x 7 columns]\n"
          ],
          "name": "stdout"
        }
      ]
    },
    {
      "cell_type": "code",
      "metadata": {
        "colab": {
          "base_uri": "https://localhost:8080/",
          "height": 407
        },
        "id": "CEKBXUGhsRCD",
        "outputId": "74a0adc3-f705-4b09-ffcb-1097d24a15d0"
      },
      "source": [
        "res.tukey_summary.sort_values(\"p-value\", ascending=True)"
      ],
      "execution_count": 52,
      "outputs": [
        {
          "output_type": "execute_result",
          "data": {
            "text/html": [
              "<div>\n",
              "<style scoped>\n",
              "    .dataframe tbody tr th:only-of-type {\n",
              "        vertical-align: middle;\n",
              "    }\n",
              "\n",
              "    .dataframe tbody tr th {\n",
              "        vertical-align: top;\n",
              "    }\n",
              "\n",
              "    .dataframe thead th {\n",
              "        text-align: right;\n",
              "    }\n",
              "</style>\n",
              "<table border=\"1\" class=\"dataframe\">\n",
              "  <thead>\n",
              "    <tr style=\"text-align: right;\">\n",
              "      <th></th>\n",
              "      <th>group1</th>\n",
              "      <th>group2</th>\n",
              "      <th>Diff</th>\n",
              "      <th>Lower</th>\n",
              "      <th>Upper</th>\n",
              "      <th>q-value</th>\n",
              "      <th>p-value</th>\n",
              "    </tr>\n",
              "  </thead>\n",
              "  <tbody>\n",
              "    <tr>\n",
              "      <th>4017</th>\n",
              "      <td>(C3, 5min, B)</td>\n",
              "      <td>(C4, 30min, A)</td>\n",
              "      <td>0.555647</td>\n",
              "      <td>0.192940</td>\n",
              "      <td>0.918355</td>\n",
              "      <td>9.916546</td>\n",
              "      <td>0.001</td>\n",
              "    </tr>\n",
              "    <tr>\n",
              "      <th>4215</th>\n",
              "      <td>(C3, 10min, A)</td>\n",
              "      <td>(C4, 30min, B)</td>\n",
              "      <td>0.485424</td>\n",
              "      <td>0.122717</td>\n",
              "      <td>0.848131</td>\n",
              "      <td>8.663279</td>\n",
              "      <td>0.001</td>\n",
              "    </tr>\n",
              "    <tr>\n",
              "      <th>6182</th>\n",
              "      <td>(C4, 30min, B)</td>\n",
              "      <td>(C9, 2min, C)</td>\n",
              "      <td>0.509215</td>\n",
              "      <td>0.146508</td>\n",
              "      <td>0.871922</td>\n",
              "      <td>9.087877</td>\n",
              "      <td>0.001</td>\n",
              "    </tr>\n",
              "    <tr>\n",
              "      <th>6183</th>\n",
              "      <td>(C4, 30min, B)</td>\n",
              "      <td>(C9, 5min, A)</td>\n",
              "      <td>0.472138</td>\n",
              "      <td>0.109431</td>\n",
              "      <td>0.834845</td>\n",
              "      <td>8.426161</td>\n",
              "      <td>0.001</td>\n",
              "    </tr>\n",
              "    <tr>\n",
              "      <th>6184</th>\n",
              "      <td>(C4, 30min, B)</td>\n",
              "      <td>(C9, 5min, B)</td>\n",
              "      <td>0.497099</td>\n",
              "      <td>0.134392</td>\n",
              "      <td>0.859806</td>\n",
              "      <td>8.871647</td>\n",
              "      <td>0.001</td>\n",
              "    </tr>\n",
              "    <tr>\n",
              "      <th>...</th>\n",
              "      <td>...</td>\n",
              "      <td>...</td>\n",
              "      <td>...</td>\n",
              "      <td>...</td>\n",
              "      <td>...</td>\n",
              "      <td>...</td>\n",
              "      <td>...</td>\n",
              "    </tr>\n",
              "    <tr>\n",
              "      <th>3409</th>\n",
              "      <td>(C2, 30min, B)</td>\n",
              "      <td>(C5, 5min, B)</td>\n",
              "      <td>0.152382</td>\n",
              "      <td>-0.210325</td>\n",
              "      <td>0.515089</td>\n",
              "      <td>2.719541</td>\n",
              "      <td>0.900</td>\n",
              "    </tr>\n",
              "    <tr>\n",
              "      <th>3408</th>\n",
              "      <td>(C2, 30min, B)</td>\n",
              "      <td>(C5, 5min, A)</td>\n",
              "      <td>0.131595</td>\n",
              "      <td>-0.231113</td>\n",
              "      <td>0.494302</td>\n",
              "      <td>2.348545</td>\n",
              "      <td>0.900</td>\n",
              "    </tr>\n",
              "    <tr>\n",
              "      <th>3407</th>\n",
              "      <td>(C2, 30min, B)</td>\n",
              "      <td>(C5, 2min, C)</td>\n",
              "      <td>0.212204</td>\n",
              "      <td>-0.150503</td>\n",
              "      <td>0.574911</td>\n",
              "      <td>3.787167</td>\n",
              "      <td>0.900</td>\n",
              "    </tr>\n",
              "    <tr>\n",
              "      <th>3420</th>\n",
              "      <td>(C2, 30min, B)</td>\n",
              "      <td>(C6, 2min, A)</td>\n",
              "      <td>0.246810</td>\n",
              "      <td>-0.115897</td>\n",
              "      <td>0.609517</td>\n",
              "      <td>4.404772</td>\n",
              "      <td>0.900</td>\n",
              "    </tr>\n",
              "    <tr>\n",
              "      <th>9044</th>\n",
              "      <td>(C9, 30min, B)</td>\n",
              "      <td>(C9, 30min, C)</td>\n",
              "      <td>0.026521</td>\n",
              "      <td>-0.336186</td>\n",
              "      <td>0.389229</td>\n",
              "      <td>0.473324</td>\n",
              "      <td>0.900</td>\n",
              "    </tr>\n",
              "  </tbody>\n",
              "</table>\n",
              "<p>9045 rows × 7 columns</p>\n",
              "</div>"
            ],
            "text/plain": [
              "              group1          group2      Diff  ...     Upper   q-value  p-value\n",
              "4017   (C3, 5min, B)  (C4, 30min, A)  0.555647  ...  0.918355  9.916546    0.001\n",
              "4215  (C3, 10min, A)  (C4, 30min, B)  0.485424  ...  0.848131  8.663279    0.001\n",
              "6182  (C4, 30min, B)   (C9, 2min, C)  0.509215  ...  0.871922  9.087877    0.001\n",
              "6183  (C4, 30min, B)   (C9, 5min, A)  0.472138  ...  0.834845  8.426161    0.001\n",
              "6184  (C4, 30min, B)   (C9, 5min, B)  0.497099  ...  0.859806  8.871647    0.001\n",
              "...              ...             ...       ...  ...       ...       ...      ...\n",
              "3409  (C2, 30min, B)   (C5, 5min, B)  0.152382  ...  0.515089  2.719541    0.900\n",
              "3408  (C2, 30min, B)   (C5, 5min, A)  0.131595  ...  0.494302  2.348545    0.900\n",
              "3407  (C2, 30min, B)   (C5, 2min, C)  0.212204  ...  0.574911  3.787167    0.900\n",
              "3420  (C2, 30min, B)   (C6, 2min, A)  0.246810  ...  0.609517  4.404772    0.900\n",
              "9044  (C9, 30min, B)  (C9, 30min, C)  0.026521  ...  0.389229  0.473324    0.900\n",
              "\n",
              "[9045 rows x 7 columns]"
            ]
          },
          "metadata": {
            "tags": []
          },
          "execution_count": 52
        }
      ]
    },
    {
      "cell_type": "code",
      "metadata": {
        "id": "2kM7Dp_9qHla"
      },
      "source": [
        "\"\"\"p_value=res.tukey_summary['p-value']\n",
        "p_value\n",
        "def list(p_value):\n",
        "    for i in p_value:\n",
        "        if i > 0.05:\n",
        "            print(\"Accept Null hyphothis\")\n",
        "        else: print(\"Accept Alternate hypothesis\")\n",
        "b=list(p_value)\n",
        "print(b)\"\"\""
      ],
      "execution_count": null,
      "outputs": []
    },
    {
      "cell_type": "code",
      "metadata": {
        "id": "7zpSoCZBqHlb"
      },
      "source": [
        ""
      ],
      "execution_count": null,
      "outputs": []
    },
    {
      "cell_type": "code",
      "metadata": {
        "id": "JA_wle1FqHlc"
      },
      "source": [
        ""
      ],
      "execution_count": null,
      "outputs": []
    }
  ]
}